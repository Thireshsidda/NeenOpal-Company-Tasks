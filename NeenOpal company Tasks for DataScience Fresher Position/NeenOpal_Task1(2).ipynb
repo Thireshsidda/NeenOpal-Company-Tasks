{
 "cells": [
  {
   "cell_type": "code",
   "execution_count": 1,
   "id": "f57914a8",
   "metadata": {},
   "outputs": [],
   "source": [
    "import pandas as pd\n",
    "import os "
   ]
  },
  {
   "cell_type": "code",
   "execution_count": 2,
   "id": "39378314",
   "metadata": {},
   "outputs": [],
   "source": [
    "os.chdir(r'F:\\MODULE 1')"
   ]
  },
  {
   "cell_type": "code",
   "execution_count": 3,
   "id": "fe8ac9b5",
   "metadata": {},
   "outputs": [],
   "source": [
    "data1=pd.read_excel('Records Matching Task.xlsx',sheet_name='data1')"
   ]
  },
  {
   "cell_type": "code",
   "execution_count": 4,
   "id": "7467b307",
   "metadata": {},
   "outputs": [
    {
     "data": {
      "text/plain": [
       "(9478, 3)"
      ]
     },
     "execution_count": 4,
     "metadata": {},
     "output_type": "execute_result"
    }
   ],
   "source": [
    "data1.shape"
   ]
  },
  {
   "cell_type": "code",
   "execution_count": 5,
   "id": "0186131c",
   "metadata": {},
   "outputs": [
    {
     "data": {
      "text/html": [
       "<div>\n",
       "<style scoped>\n",
       "    .dataframe tbody tr th:only-of-type {\n",
       "        vertical-align: middle;\n",
       "    }\n",
       "\n",
       "    .dataframe tbody tr th {\n",
       "        vertical-align: top;\n",
       "    }\n",
       "\n",
       "    .dataframe thead th {\n",
       "        text-align: right;\n",
       "    }\n",
       "</style>\n",
       "<table border=\"1\" class=\"dataframe\">\n",
       "  <thead>\n",
       "    <tr style=\"text-align: right;\">\n",
       "      <th></th>\n",
       "      <th>Order ID</th>\n",
       "      <th>Product ID</th>\n",
       "      <th>Qty</th>\n",
       "    </tr>\n",
       "  </thead>\n",
       "  <tbody>\n",
       "    <tr>\n",
       "      <th>0</th>\n",
       "      <td>CA-2014-100006</td>\n",
       "      <td>TEC-PH-10002075</td>\n",
       "      <td>3</td>\n",
       "    </tr>\n",
       "    <tr>\n",
       "      <th>1</th>\n",
       "      <td>CA-2014-100090</td>\n",
       "      <td>FUR-TA-10003715</td>\n",
       "      <td>3</td>\n",
       "    </tr>\n",
       "    <tr>\n",
       "      <th>2</th>\n",
       "      <td>CA-2014-100090</td>\n",
       "      <td>OFF-BI-10001597</td>\n",
       "      <td>6</td>\n",
       "    </tr>\n",
       "    <tr>\n",
       "      <th>3</th>\n",
       "      <td>CA-2014-100293</td>\n",
       "      <td>OFF-PA-10000176</td>\n",
       "      <td>6</td>\n",
       "    </tr>\n",
       "    <tr>\n",
       "      <th>4</th>\n",
       "      <td>CA-2014-100328</td>\n",
       "      <td>OFF-BI-10000343</td>\n",
       "      <td>1</td>\n",
       "    </tr>\n",
       "  </tbody>\n",
       "</table>\n",
       "</div>"
      ],
      "text/plain": [
       "         Order ID       Product ID  Qty\n",
       "0  CA-2014-100006  TEC-PH-10002075    3\n",
       "1  CA-2014-100090  FUR-TA-10003715    3\n",
       "2  CA-2014-100090  OFF-BI-10001597    6\n",
       "3  CA-2014-100293  OFF-PA-10000176    6\n",
       "4  CA-2014-100328  OFF-BI-10000343    1"
      ]
     },
     "execution_count": 5,
     "metadata": {},
     "output_type": "execute_result"
    }
   ],
   "source": [
    "data1.head()"
   ]
  },
  {
   "cell_type": "code",
   "execution_count": 6,
   "id": "8a57c0b7",
   "metadata": {},
   "outputs": [],
   "source": [
    "data2=pd.read_excel('Records Matching Task.xlsx',sheet_name='data2')"
   ]
  },
  {
   "cell_type": "code",
   "execution_count": 7,
   "id": "c5f77a3f",
   "metadata": {},
   "outputs": [
    {
     "data": {
      "text/html": [
       "<div>\n",
       "<style scoped>\n",
       "    .dataframe tbody tr th:only-of-type {\n",
       "        vertical-align: middle;\n",
       "    }\n",
       "\n",
       "    .dataframe tbody tr th {\n",
       "        vertical-align: top;\n",
       "    }\n",
       "\n",
       "    .dataframe thead th {\n",
       "        text-align: right;\n",
       "    }\n",
       "</style>\n",
       "<table border=\"1\" class=\"dataframe\">\n",
       "  <thead>\n",
       "    <tr style=\"text-align: right;\">\n",
       "      <th></th>\n",
       "      <th>Order ID</th>\n",
       "      <th>Product ID</th>\n",
       "      <th>Qty</th>\n",
       "    </tr>\n",
       "  </thead>\n",
       "  <tbody>\n",
       "    <tr>\n",
       "      <th>0</th>\n",
       "      <td>CA-2014-100090</td>\n",
       "      <td>FUR-TA-10003715</td>\n",
       "      <td>3</td>\n",
       "    </tr>\n",
       "    <tr>\n",
       "      <th>1</th>\n",
       "      <td>CA-2014-100090</td>\n",
       "      <td>OFF-BI-10001597</td>\n",
       "      <td>6</td>\n",
       "    </tr>\n",
       "    <tr>\n",
       "      <th>2</th>\n",
       "      <td>CA-2014-100293</td>\n",
       "      <td>OFF-PA-10000176</td>\n",
       "      <td>6</td>\n",
       "    </tr>\n",
       "    <tr>\n",
       "      <th>3</th>\n",
       "      <td>CA-2014-100328</td>\n",
       "      <td>OFF-BI-10000343</td>\n",
       "      <td>1</td>\n",
       "    </tr>\n",
       "    <tr>\n",
       "      <th>4</th>\n",
       "      <td>CA-2014-100363</td>\n",
       "      <td>OFF-FA-10000611</td>\n",
       "      <td>2</td>\n",
       "    </tr>\n",
       "  </tbody>\n",
       "</table>\n",
       "</div>"
      ],
      "text/plain": [
       "         Order ID       Product ID  Qty\n",
       "0  CA-2014-100090  FUR-TA-10003715    3\n",
       "1  CA-2014-100090  OFF-BI-10001597    6\n",
       "2  CA-2014-100293  OFF-PA-10000176    6\n",
       "3  CA-2014-100328  OFF-BI-10000343    1\n",
       "4  CA-2014-100363  OFF-FA-10000611    2"
      ]
     },
     "execution_count": 7,
     "metadata": {},
     "output_type": "execute_result"
    }
   ],
   "source": [
    "data2.head()"
   ]
  },
  {
   "cell_type": "code",
   "execution_count": 8,
   "id": "d9a1e498",
   "metadata": {},
   "outputs": [],
   "source": [
    "data2[\"Record\"] = data2[\"Order ID\"]+data2[\"Product ID\"]\n",
    "data1[\"Record\"] = data1[\"Order ID\"]+data1[\"Product ID\"]"
   ]
  },
  {
   "cell_type": "code",
   "execution_count": 10,
   "id": "b0fdc2ce",
   "metadata": {},
   "outputs": [
    {
     "data": {
      "text/html": [
       "<div>\n",
       "<style scoped>\n",
       "    .dataframe tbody tr th:only-of-type {\n",
       "        vertical-align: middle;\n",
       "    }\n",
       "\n",
       "    .dataframe tbody tr th {\n",
       "        vertical-align: top;\n",
       "    }\n",
       "\n",
       "    .dataframe thead th {\n",
       "        text-align: right;\n",
       "    }\n",
       "</style>\n",
       "<table border=\"1\" class=\"dataframe\">\n",
       "  <thead>\n",
       "    <tr style=\"text-align: right;\">\n",
       "      <th></th>\n",
       "      <th>Order ID</th>\n",
       "      <th>Product ID</th>\n",
       "      <th>Qty</th>\n",
       "      <th>Record</th>\n",
       "    </tr>\n",
       "  </thead>\n",
       "  <tbody>\n",
       "    <tr>\n",
       "      <th>0</th>\n",
       "      <td>CA-2014-100006</td>\n",
       "      <td>TEC-PH-10002075</td>\n",
       "      <td>3</td>\n",
       "      <td>CA-2014-100006TEC-PH-10002075</td>\n",
       "    </tr>\n",
       "    <tr>\n",
       "      <th>1</th>\n",
       "      <td>CA-2014-100090</td>\n",
       "      <td>FUR-TA-10003715</td>\n",
       "      <td>3</td>\n",
       "      <td>CA-2014-100090FUR-TA-10003715</td>\n",
       "    </tr>\n",
       "    <tr>\n",
       "      <th>2</th>\n",
       "      <td>CA-2014-100090</td>\n",
       "      <td>OFF-BI-10001597</td>\n",
       "      <td>6</td>\n",
       "      <td>CA-2014-100090OFF-BI-10001597</td>\n",
       "    </tr>\n",
       "    <tr>\n",
       "      <th>3</th>\n",
       "      <td>CA-2014-100293</td>\n",
       "      <td>OFF-PA-10000176</td>\n",
       "      <td>6</td>\n",
       "      <td>CA-2014-100293OFF-PA-10000176</td>\n",
       "    </tr>\n",
       "    <tr>\n",
       "      <th>4</th>\n",
       "      <td>CA-2014-100328</td>\n",
       "      <td>OFF-BI-10000343</td>\n",
       "      <td>1</td>\n",
       "      <td>CA-2014-100328OFF-BI-10000343</td>\n",
       "    </tr>\n",
       "  </tbody>\n",
       "</table>\n",
       "</div>"
      ],
      "text/plain": [
       "         Order ID       Product ID  Qty                         Record\n",
       "0  CA-2014-100006  TEC-PH-10002075    3  CA-2014-100006TEC-PH-10002075\n",
       "1  CA-2014-100090  FUR-TA-10003715    3  CA-2014-100090FUR-TA-10003715\n",
       "2  CA-2014-100090  OFF-BI-10001597    6  CA-2014-100090OFF-BI-10001597\n",
       "3  CA-2014-100293  OFF-PA-10000176    6  CA-2014-100293OFF-PA-10000176\n",
       "4  CA-2014-100328  OFF-BI-10000343    1  CA-2014-100328OFF-BI-10000343"
      ]
     },
     "execution_count": 10,
     "metadata": {},
     "output_type": "execute_result"
    }
   ],
   "source": [
    "data1.head()"
   ]
  },
  {
   "cell_type": "code",
   "execution_count": 9,
   "id": "81d40e59",
   "metadata": {},
   "outputs": [
    {
     "data": {
      "text/html": [
       "<div>\n",
       "<style scoped>\n",
       "    .dataframe tbody tr th:only-of-type {\n",
       "        vertical-align: middle;\n",
       "    }\n",
       "\n",
       "    .dataframe tbody tr th {\n",
       "        vertical-align: top;\n",
       "    }\n",
       "\n",
       "    .dataframe thead th {\n",
       "        text-align: right;\n",
       "    }\n",
       "</style>\n",
       "<table border=\"1\" class=\"dataframe\">\n",
       "  <thead>\n",
       "    <tr style=\"text-align: right;\">\n",
       "      <th></th>\n",
       "      <th>Order ID</th>\n",
       "      <th>Product ID</th>\n",
       "      <th>Qty</th>\n",
       "      <th>Record</th>\n",
       "    </tr>\n",
       "  </thead>\n",
       "  <tbody>\n",
       "    <tr>\n",
       "      <th>0</th>\n",
       "      <td>CA-2014-100090</td>\n",
       "      <td>FUR-TA-10003715</td>\n",
       "      <td>3</td>\n",
       "      <td>CA-2014-100090FUR-TA-10003715</td>\n",
       "    </tr>\n",
       "    <tr>\n",
       "      <th>1</th>\n",
       "      <td>CA-2014-100090</td>\n",
       "      <td>OFF-BI-10001597</td>\n",
       "      <td>6</td>\n",
       "      <td>CA-2014-100090OFF-BI-10001597</td>\n",
       "    </tr>\n",
       "    <tr>\n",
       "      <th>2</th>\n",
       "      <td>CA-2014-100293</td>\n",
       "      <td>OFF-PA-10000176</td>\n",
       "      <td>6</td>\n",
       "      <td>CA-2014-100293OFF-PA-10000176</td>\n",
       "    </tr>\n",
       "    <tr>\n",
       "      <th>3</th>\n",
       "      <td>CA-2014-100328</td>\n",
       "      <td>OFF-BI-10000343</td>\n",
       "      <td>1</td>\n",
       "      <td>CA-2014-100328OFF-BI-10000343</td>\n",
       "    </tr>\n",
       "    <tr>\n",
       "      <th>4</th>\n",
       "      <td>CA-2014-100363</td>\n",
       "      <td>OFF-FA-10000611</td>\n",
       "      <td>2</td>\n",
       "      <td>CA-2014-100363OFF-FA-10000611</td>\n",
       "    </tr>\n",
       "  </tbody>\n",
       "</table>\n",
       "</div>"
      ],
      "text/plain": [
       "         Order ID       Product ID  Qty                         Record\n",
       "0  CA-2014-100090  FUR-TA-10003715    3  CA-2014-100090FUR-TA-10003715\n",
       "1  CA-2014-100090  OFF-BI-10001597    6  CA-2014-100090OFF-BI-10001597\n",
       "2  CA-2014-100293  OFF-PA-10000176    6  CA-2014-100293OFF-PA-10000176\n",
       "3  CA-2014-100328  OFF-BI-10000343    1  CA-2014-100328OFF-BI-10000343\n",
       "4  CA-2014-100363  OFF-FA-10000611    2  CA-2014-100363OFF-FA-10000611"
      ]
     },
     "execution_count": 9,
     "metadata": {},
     "output_type": "execute_result"
    }
   ],
   "source": [
    "data2.head()"
   ]
  },
  {
   "cell_type": "code",
   "execution_count": 11,
   "id": "8d267c22",
   "metadata": {},
   "outputs": [],
   "source": [
    "res = set(data2[\"Record\"]).difference(set(data1[\"Record\"]))"
   ]
  },
  {
   "cell_type": "raw",
   "id": "19decde4",
   "metadata": {},
   "source": [
    "How to identify the Records (Order ID + Product ID combination) present in data1 but missing in data2 (Specify the number of records missing in your answer)"
   ]
  },
  {
   "cell_type": "code",
   "execution_count": 16,
   "id": "d059f240",
   "metadata": {},
   "outputs": [
    {
     "data": {
      "text/plain": [
       "508"
      ]
     },
     "execution_count": 16,
     "metadata": {},
     "output_type": "execute_result"
    }
   ],
   "source": [
    "len(list(res))"
   ]
  },
  {
   "cell_type": "raw",
   "id": "14746e6d",
   "metadata": {},
   "source": [
    "How to identify the Records (Order ID + Product ID combination) missing in data1 but present in data2 (Specify the number of records missing in your answer)"
   ]
  },
  {
   "cell_type": "code",
   "execution_count": 17,
   "id": "8650a5d4",
   "metadata": {},
   "outputs": [],
   "source": [
    "res2 = set(data1[\"Record\"]).difference(set(data2[\"Record\"]))"
   ]
  },
  {
   "cell_type": "code",
   "execution_count": 19,
   "id": "27688928",
   "metadata": {},
   "outputs": [],
   "source": [
    "records=list(res2)"
   ]
  },
  {
   "cell_type": "code",
   "execution_count": 24,
   "id": "3ce302ee",
   "metadata": {},
   "outputs": [
    {
     "data": {
      "text/plain": [
       "507"
      ]
     },
     "execution_count": 24,
     "metadata": {},
     "output_type": "execute_result"
    }
   ],
   "source": [
    "len(list(res2))"
   ]
  },
  {
   "cell_type": "code",
   "execution_count": 23,
   "id": "b6c2f5aa",
   "metadata": {},
   "outputs": [
    {
     "data": {
      "text/html": [
       "<div>\n",
       "<style scoped>\n",
       "    .dataframe tbody tr th:only-of-type {\n",
       "        vertical-align: middle;\n",
       "    }\n",
       "\n",
       "    .dataframe tbody tr th {\n",
       "        vertical-align: top;\n",
       "    }\n",
       "\n",
       "    .dataframe thead th {\n",
       "        text-align: right;\n",
       "    }\n",
       "</style>\n",
       "<table border=\"1\" class=\"dataframe\">\n",
       "  <thead>\n",
       "    <tr style=\"text-align: right;\">\n",
       "      <th></th>\n",
       "      <th>0</th>\n",
       "    </tr>\n",
       "  </thead>\n",
       "  <tbody>\n",
       "    <tr>\n",
       "      <th>0</th>\n",
       "      <td>CA-2015-138954OFF-BI-10003963</td>\n",
       "    </tr>\n",
       "    <tr>\n",
       "      <th>1</th>\n",
       "      <td>CA-2015-165624OFF-LA-10003190</td>\n",
       "    </tr>\n",
       "    <tr>\n",
       "      <th>2</th>\n",
       "      <td>CA-2016-136770TEC-AC-10000420</td>\n",
       "    </tr>\n",
       "    <tr>\n",
       "      <th>3</th>\n",
       "      <td>US-2015-147242OFF-PA-10003039</td>\n",
       "    </tr>\n",
       "    <tr>\n",
       "      <th>4</th>\n",
       "      <td>CA-2016-116526OFF-BI-10004728</td>\n",
       "    </tr>\n",
       "    <tr>\n",
       "      <th>...</th>\n",
       "      <td>...</td>\n",
       "    </tr>\n",
       "    <tr>\n",
       "      <th>502</th>\n",
       "      <td>CA-2015-104486OFF-SU-10002573</td>\n",
       "    </tr>\n",
       "    <tr>\n",
       "      <th>503</th>\n",
       "      <td>CA-2015-119508OFF-AR-10003723</td>\n",
       "    </tr>\n",
       "    <tr>\n",
       "      <th>504</th>\n",
       "      <td>CA-2016-127243OFF-ST-10002301</td>\n",
       "    </tr>\n",
       "    <tr>\n",
       "      <th>505</th>\n",
       "      <td>CA-2014-112291OFF-EN-10001415</td>\n",
       "    </tr>\n",
       "    <tr>\n",
       "      <th>506</th>\n",
       "      <td>CA-2015-111514FUR-BO-10002545</td>\n",
       "    </tr>\n",
       "  </tbody>\n",
       "</table>\n",
       "<p>507 rows × 1 columns</p>\n",
       "</div>"
      ],
      "text/plain": [
       "                                 0\n",
       "0    CA-2015-138954OFF-BI-10003963\n",
       "1    CA-2015-165624OFF-LA-10003190\n",
       "2    CA-2016-136770TEC-AC-10000420\n",
       "3    US-2015-147242OFF-PA-10003039\n",
       "4    CA-2016-116526OFF-BI-10004728\n",
       "..                             ...\n",
       "502  CA-2015-104486OFF-SU-10002573\n",
       "503  CA-2015-119508OFF-AR-10003723\n",
       "504  CA-2016-127243OFF-ST-10002301\n",
       "505  CA-2014-112291OFF-EN-10001415\n",
       "506  CA-2015-111514FUR-BO-10002545\n",
       "\n",
       "[507 rows x 1 columns]"
      ]
     },
     "execution_count": 23,
     "metadata": {},
     "output_type": "execute_result"
    }
   ],
   "source": [
    "rec=pd.DataFrame(records)\n",
    "rec"
   ]
  },
  {
   "cell_type": "raw",
   "id": "9ca98fd0",
   "metadata": {},
   "source": [
    "Find the Sum of the total Qty of Records missing in data1 but present in data2"
   ]
  },
  {
   "cell_type": "code",
   "execution_count": 40,
   "id": "c35f5e3b",
   "metadata": {},
   "outputs": [],
   "source": [
    "p=[]\n",
    "for i in range(len(records)):\n",
    "    p.append(records[i][0:14])\n",
    "Q=[]\n",
    "for i in range(len(records)):\n",
    "    Q.append(records[i][14:29])"
   ]
  },
  {
   "cell_type": "code",
   "execution_count": 43,
   "id": "c0606742",
   "metadata": {},
   "outputs": [],
   "source": [
    "P=pd.Series(p)\n",
    "Q=pd.Series(Q)"
   ]
  },
  {
   "cell_type": "code",
   "execution_count": 44,
   "id": "0c19dc91",
   "metadata": {},
   "outputs": [],
   "source": [
    "k=pd.DataFrame(Q)"
   ]
  },
  {
   "cell_type": "code",
   "execution_count": 46,
   "id": "b84586b1",
   "metadata": {},
   "outputs": [],
   "source": [
    "l=pd.DataFrame(P)"
   ]
  },
  {
   "cell_type": "code",
   "execution_count": null,
   "id": "3ee6ccd7",
   "metadata": {},
   "outputs": [],
   "source": []
  },
  {
   "cell_type": "code",
   "execution_count": null,
   "id": "a69946db",
   "metadata": {},
   "outputs": [],
   "source": []
  },
  {
   "cell_type": "code",
   "execution_count": 35,
   "id": "a981fa9f",
   "metadata": {},
   "outputs": [],
   "source": [
    "data_result = data1.merge(data2.drop_duplicates(), on=['Record'])"
   ]
  },
  {
   "cell_type": "code",
   "execution_count": 37,
   "id": "87792459",
   "metadata": {
    "scrolled": true
   },
   "outputs": [
    {
     "data": {
      "text/plain": [
       "35999"
      ]
     },
     "execution_count": 37,
     "metadata": {},
     "output_type": "execute_result"
    }
   ],
   "source": [
    "res3= data2['Qty'].sum()\n",
    "res3"
   ]
  },
  {
   "cell_type": "raw",
   "id": "c279f5af",
   "metadata": {},
   "source": [
    "Find the total number of unique records (Order ID + Product ID combination) present in the combined dataset of data1 and data2"
   ]
  },
  {
   "cell_type": "code",
   "execution_count": 28,
   "id": "e134be5f",
   "metadata": {},
   "outputs": [],
   "source": [
    "data_result = data1.merge(data2.drop_duplicates(), on=['Order ID','Product ID'])"
   ]
  },
  {
   "cell_type": "code",
   "execution_count": 29,
   "id": "746e0908",
   "metadata": {},
   "outputs": [
    {
     "data": {
      "text/html": [
       "<div>\n",
       "<style scoped>\n",
       "    .dataframe tbody tr th:only-of-type {\n",
       "        vertical-align: middle;\n",
       "    }\n",
       "\n",
       "    .dataframe tbody tr th {\n",
       "        vertical-align: top;\n",
       "    }\n",
       "\n",
       "    .dataframe thead th {\n",
       "        text-align: right;\n",
       "    }\n",
       "</style>\n",
       "<table border=\"1\" class=\"dataframe\">\n",
       "  <thead>\n",
       "    <tr style=\"text-align: right;\">\n",
       "      <th></th>\n",
       "      <th>Order ID</th>\n",
       "      <th>Product ID</th>\n",
       "      <th>Qty_x</th>\n",
       "      <th>Record_x</th>\n",
       "      <th>Qty_y</th>\n",
       "      <th>Record_y</th>\n",
       "    </tr>\n",
       "  </thead>\n",
       "  <tbody>\n",
       "    <tr>\n",
       "      <th>0</th>\n",
       "      <td>CA-2014-100090</td>\n",
       "      <td>FUR-TA-10003715</td>\n",
       "      <td>3</td>\n",
       "      <td>CA-2014-100090FUR-TA-10003715</td>\n",
       "      <td>3</td>\n",
       "      <td>CA-2014-100090FUR-TA-10003715</td>\n",
       "    </tr>\n",
       "    <tr>\n",
       "      <th>1</th>\n",
       "      <td>CA-2014-100090</td>\n",
       "      <td>OFF-BI-10001597</td>\n",
       "      <td>6</td>\n",
       "      <td>CA-2014-100090OFF-BI-10001597</td>\n",
       "      <td>6</td>\n",
       "      <td>CA-2014-100090OFF-BI-10001597</td>\n",
       "    </tr>\n",
       "    <tr>\n",
       "      <th>2</th>\n",
       "      <td>CA-2014-100293</td>\n",
       "      <td>OFF-PA-10000176</td>\n",
       "      <td>6</td>\n",
       "      <td>CA-2014-100293OFF-PA-10000176</td>\n",
       "      <td>6</td>\n",
       "      <td>CA-2014-100293OFF-PA-10000176</td>\n",
       "    </tr>\n",
       "    <tr>\n",
       "      <th>3</th>\n",
       "      <td>CA-2014-100328</td>\n",
       "      <td>OFF-BI-10000343</td>\n",
       "      <td>1</td>\n",
       "      <td>CA-2014-100328OFF-BI-10000343</td>\n",
       "      <td>1</td>\n",
       "      <td>CA-2014-100328OFF-BI-10000343</td>\n",
       "    </tr>\n",
       "    <tr>\n",
       "      <th>4</th>\n",
       "      <td>CA-2014-100363</td>\n",
       "      <td>OFF-FA-10000611</td>\n",
       "      <td>2</td>\n",
       "      <td>CA-2014-100363OFF-FA-10000611</td>\n",
       "      <td>2</td>\n",
       "      <td>CA-2014-100363OFF-FA-10000611</td>\n",
       "    </tr>\n",
       "    <tr>\n",
       "      <th>...</th>\n",
       "      <td>...</td>\n",
       "      <td>...</td>\n",
       "      <td>...</td>\n",
       "      <td>...</td>\n",
       "      <td>...</td>\n",
       "      <td>...</td>\n",
       "    </tr>\n",
       "    <tr>\n",
       "      <th>8966</th>\n",
       "      <td>US-2017-169551</td>\n",
       "      <td>OFF-PA-10004100</td>\n",
       "      <td>3</td>\n",
       "      <td>US-2017-169551OFF-PA-10004100</td>\n",
       "      <td>3</td>\n",
       "      <td>US-2017-169551OFF-PA-10004100</td>\n",
       "    </tr>\n",
       "    <tr>\n",
       "      <th>8967</th>\n",
       "      <td>US-2017-169551</td>\n",
       "      <td>OFF-ST-10004835</td>\n",
       "      <td>3</td>\n",
       "      <td>US-2017-169551OFF-ST-10004835</td>\n",
       "      <td>3</td>\n",
       "      <td>US-2017-169551OFF-ST-10004835</td>\n",
       "    </tr>\n",
       "    <tr>\n",
       "      <th>8968</th>\n",
       "      <td>US-2017-169551</td>\n",
       "      <td>TEC-AC-10002018</td>\n",
       "      <td>3</td>\n",
       "      <td>US-2017-169551TEC-AC-10002018</td>\n",
       "      <td>3</td>\n",
       "      <td>US-2017-169551TEC-AC-10002018</td>\n",
       "    </tr>\n",
       "    <tr>\n",
       "      <th>8969</th>\n",
       "      <td>US-2017-169551</td>\n",
       "      <td>TEC-AC-10003033</td>\n",
       "      <td>2</td>\n",
       "      <td>US-2017-169551TEC-AC-10003033</td>\n",
       "      <td>2</td>\n",
       "      <td>US-2017-169551TEC-AC-10003033</td>\n",
       "    </tr>\n",
       "    <tr>\n",
       "      <th>8970</th>\n",
       "      <td>US-2017-169551</td>\n",
       "      <td>TEC-PH-10001363</td>\n",
       "      <td>2</td>\n",
       "      <td>US-2017-169551TEC-PH-10001363</td>\n",
       "      <td>2</td>\n",
       "      <td>US-2017-169551TEC-PH-10001363</td>\n",
       "    </tr>\n",
       "  </tbody>\n",
       "</table>\n",
       "<p>8971 rows × 6 columns</p>\n",
       "</div>"
      ],
      "text/plain": [
       "            Order ID       Product ID  Qty_x                       Record_x  \\\n",
       "0     CA-2014-100090  FUR-TA-10003715      3  CA-2014-100090FUR-TA-10003715   \n",
       "1     CA-2014-100090  OFF-BI-10001597      6  CA-2014-100090OFF-BI-10001597   \n",
       "2     CA-2014-100293  OFF-PA-10000176      6  CA-2014-100293OFF-PA-10000176   \n",
       "3     CA-2014-100328  OFF-BI-10000343      1  CA-2014-100328OFF-BI-10000343   \n",
       "4     CA-2014-100363  OFF-FA-10000611      2  CA-2014-100363OFF-FA-10000611   \n",
       "...              ...              ...    ...                            ...   \n",
       "8966  US-2017-169551  OFF-PA-10004100      3  US-2017-169551OFF-PA-10004100   \n",
       "8967  US-2017-169551  OFF-ST-10004835      3  US-2017-169551OFF-ST-10004835   \n",
       "8968  US-2017-169551  TEC-AC-10002018      3  US-2017-169551TEC-AC-10002018   \n",
       "8969  US-2017-169551  TEC-AC-10003033      2  US-2017-169551TEC-AC-10003033   \n",
       "8970  US-2017-169551  TEC-PH-10001363      2  US-2017-169551TEC-PH-10001363   \n",
       "\n",
       "      Qty_y                       Record_y  \n",
       "0         3  CA-2014-100090FUR-TA-10003715  \n",
       "1         6  CA-2014-100090OFF-BI-10001597  \n",
       "2         6  CA-2014-100293OFF-PA-10000176  \n",
       "3         1  CA-2014-100328OFF-BI-10000343  \n",
       "4         2  CA-2014-100363OFF-FA-10000611  \n",
       "...     ...                            ...  \n",
       "8966      3  US-2017-169551OFF-PA-10004100  \n",
       "8967      3  US-2017-169551OFF-ST-10004835  \n",
       "8968      3  US-2017-169551TEC-AC-10002018  \n",
       "8969      2  US-2017-169551TEC-AC-10003033  \n",
       "8970      2  US-2017-169551TEC-PH-10001363  \n",
       "\n",
       "[8971 rows x 6 columns]"
      ]
     },
     "execution_count": 29,
     "metadata": {},
     "output_type": "execute_result"
    }
   ],
   "source": [
    "data_result"
   ]
  },
  {
   "cell_type": "code",
   "execution_count": null,
   "id": "39792e11",
   "metadata": {},
   "outputs": [],
   "source": [
    "# 8971"
   ]
  },
  {
   "cell_type": "code",
   "execution_count": null,
   "id": "8104a828",
   "metadata": {},
   "outputs": [],
   "source": []
  },
  {
   "cell_type": "code",
   "execution_count": null,
   "id": "beb93170",
   "metadata": {},
   "outputs": [],
   "source": []
  },
  {
   "cell_type": "code",
   "execution_count": null,
   "id": "dc1840bf",
   "metadata": {},
   "outputs": [],
   "source": []
  },
  {
   "cell_type": "code",
   "execution_count": null,
   "id": "989262cc",
   "metadata": {},
   "outputs": [],
   "source": []
  },
  {
   "cell_type": "code",
   "execution_count": null,
   "id": "a6a828b9",
   "metadata": {},
   "outputs": [],
   "source": []
  },
  {
   "cell_type": "code",
   "execution_count": null,
   "id": "6b8220c0",
   "metadata": {},
   "outputs": [],
   "source": []
  },
  {
   "cell_type": "code",
   "execution_count": null,
   "id": "2766a6e8",
   "metadata": {},
   "outputs": [],
   "source": []
  },
  {
   "cell_type": "code",
   "execution_count": null,
   "id": "87ef2d7a",
   "metadata": {},
   "outputs": [],
   "source": []
  },
  {
   "cell_type": "code",
   "execution_count": null,
   "id": "5691cac8",
   "metadata": {},
   "outputs": [],
   "source": []
  },
  {
   "cell_type": "code",
   "execution_count": null,
   "id": "b9c62a71",
   "metadata": {},
   "outputs": [],
   "source": []
  },
  {
   "cell_type": "code",
   "execution_count": null,
   "id": "91498f17",
   "metadata": {},
   "outputs": [],
   "source": []
  }
 ],
 "metadata": {
  "kernelspec": {
   "display_name": "Python 3 (ipykernel)",
   "language": "python",
   "name": "python3"
  },
  "language_info": {
   "codemirror_mode": {
    "name": "ipython",
    "version": 3
   },
   "file_extension": ".py",
   "mimetype": "text/x-python",
   "name": "python",
   "nbconvert_exporter": "python",
   "pygments_lexer": "ipython3",
   "version": "3.9.7"
  }
 },
 "nbformat": 4,
 "nbformat_minor": 5
}
